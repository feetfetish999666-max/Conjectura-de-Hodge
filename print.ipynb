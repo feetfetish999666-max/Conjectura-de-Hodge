{
  "nbformat": 4,
  "nbformat_minor": 0,
  "metadata": {
    "colab": {
      "provenance": [],
      "authorship_tag": "ABX9TyNgaQKXdATdC4uQ2EcP8zhL",
      "include_colab_link": true
    },
    "kernelspec": {
      "name": "python3",
      "display_name": "Python 3"
    },
    "language_info": {
      "name": "python"
    }
  },
  "cells": [
    {
      "cell_type": "markdown",
      "metadata": {
        "id": "view-in-github",
        "colab_type": "text"
      },
      "source": [
        "<a href=\"https://colab.research.google.com/github/feetfetish999666-max/Conjectura-de-Hodge/blob/main/print.ipynb\" target=\"_parent\"><img src=\"https://colab.research.google.com/assets/colab-badge.svg\" alt=\"Open In Colab\"/></a>"
      ]
    },
    {
      "cell_type": "code",
      "source": [
        "print(\"good morning\")"
      ],
      "metadata": {
        "colab": {
          "base_uri": "https://localhost:8080/"
        },
        "id": "3sJ6leVvQggK",
        "outputId": "df13aaf8-b743-4de8-ac10-8f7d1edf81b8"
      },
      "execution_count": null,
      "outputs": [
        {
          "output_type": "stream",
          "name": "stdout",
          "text": [
            "good morning\n"
          ]
        }
      ]
    },
    {
      "cell_type": "code",
      "source": [
        "print(2+3)"
      ],
      "metadata": {
        "colab": {
          "base_uri": "https://localhost:8080/"
        },
        "id": "zKKl0avLRJe5",
        "outputId": "c2285732-6aad-43c2-b0cd-e069d93d3e5a"
      },
      "execution_count": null,
      "outputs": [
        {
          "output_type": "stream",
          "name": "stdout",
          "text": [
            "5\n"
          ]
        }
      ]
    },
    {
      "cell_type": "code",
      "source": [
        "print(\"Bom dia, Gabriel!\")\n",
        "print(\"2 + 7 =\", 2 + 7)\n",
        "print(\"5 * 3 =\", 5 * 3)\n",
        "print(\"Hoje você aprendeu a usar o print 🚀\")"
      ],
      "metadata": {
        "colab": {
          "base_uri": "https://localhost:8080/"
        },
        "id": "fFT7q3QMRsrh",
        "outputId": "1e915d44-857a-46b5-b920-77e47b6346cb"
      },
      "execution_count": null,
      "outputs": [
        {
          "output_type": "stream",
          "name": "stdout",
          "text": [
            "Bom dia, Gabriel!\n",
            "2 + 7 = 9\n",
            "5 * 3 = 15\n",
            "Hoje você aprendeu a usar o print 🚀\n"
          ]
        }
      ]
    },
    {
      "cell_type": "code",
      "source": [
        "print(\"10 + 5 =\", 10 + 5)\n",
        "print(\"20 - 7 =\", 20 - 7)\n",
        "print(\"6 * 4 =\", 6 * 4)\n",
        "print(\"15 / 3 =\", 15 / 3)"
      ],
      "metadata": {
        "colab": {
          "base_uri": "https://localhost:8080/"
        },
        "id": "w20Rvq7pWf9z",
        "outputId": "0ca1044c-da52-4a67-af52-e06e40d0d326"
      },
      "execution_count": null,
      "outputs": [
        {
          "output_type": "stream",
          "name": "stdout",
          "text": [
            "10 + 5 = 15\n",
            "20 - 7 = 13\n",
            "6 * 4 = 24\n",
            "15 / 3 = 5.0\n"
          ]
        }
      ]
    },
    {
      "cell_type": "code",
      "source": [
        "import math\n",
        "\n",
        "def resolver_equacao_segundo_grau(a, b, c):\n",
        "  \"\"\"\n",
        "  Calcula as raízes de uma equação de segundo grau (ax² + bx + c = 0).\n",
        "  \"\"\"\n",
        "  delta = b**2 - 4*a*c\n",
        "\n",
        "  if delta < 0:\n",
        "    return \"Esta equação não tem raízes reais.\"\n",
        "\n",
        "  x1 = (-b + math.sqrt(delta)) / (2*a)\n",
        "  x2 = (-b - math.sqrt(delta)) / (2*a)\n",
        "\n",
        "  return x1, x2\n",
        "\n",
        "# Coeficientes da equação de segundo grau: 2x² + 5x - 3 = 0\n",
        "a = 2\n",
        "b = 5\n",
        "c = -3\n",
        "\n",
        "# Calcula as raízes\n",
        "raizes = resolver_equacao_segundo_grau(a, b, c)\n",
        "\n",
        "if raizes != \"Esta equação não tem raízes reais.\":\n",
        "  x1, x2 = raizes\n",
        "\n",
        "  # Aplica as Relações de Viète\n",
        "  soma_viette = -b/a\n",
        "  produto_viette = c/a\n",
        "\n",
        "  # Calcula a soma e o produto das raízes encontradas\n",
        "  soma_encontrada = x1 + x2\n",
        "  produto_encontrado = x1 * x2\n",
        "\n",
        "  print(f\"Raízes da equação: x1 = {x1}, x2 = {x2}\")\n",
        "  print(\"-\" * 30)\n",
        "  print(f\"Verificação com as Relações de Viète:\")\n",
        "  print(f\"Soma das raízes (Viète): {soma_viette}\")\n",
        "  print(f\"Soma das raízes (calculada): {soma_encontrada}\")\n",
        "  print(f\"Produto das raízes (Viète): {produto_viette}\")\n",
        "  print(f\"Produto das raízes (calculado): {produto_encontrado}\")\n",
        "\n"
      ],
      "metadata": {
        "id": "JQ_k9fyfq7Pd",
        "outputId": "2547f3ac-8020-47e0-86b3-bda6601ac412",
        "colab": {
          "base_uri": "https://localhost:8080/"
        }
      },
      "execution_count": 2,
      "outputs": [
        {
          "output_type": "stream",
          "name": "stdout",
          "text": [
            "Raízes da equação: x1 = 0.5, x2 = -3.0\n",
            "------------------------------\n",
            "Verificação com as Relações de Viète:\n",
            "Soma das raízes (Viète): -2.5\n",
            "Soma das raízes (calculada): -2.5\n",
            "Produto das raízes (Viète): -1.5\n",
            "Produto das raízes (calculado): -1.5\n"
          ]
        }
      ]
    },
    {
      "cell_type": "code",
      "source": [],
      "metadata": {
        "id": "8AWJiPi2MHyV"
      },
      "execution_count": null,
      "outputs": []
    },
    {
      "cell_type": "code",
      "source": [
        "print(\"Cada linha de código me deixa mais perto dos meus objetivos 🚀\")"
      ],
      "metadata": {
        "colab": {
          "base_uri": "https://localhost:8080/"
        },
        "id": "ReZwWrLhW5Sm",
        "outputId": "7db7a75d-99f4-4163-b575-e7312176c891"
      },
      "execution_count": null,
      "outputs": [
        {
          "output_type": "stream",
          "name": "stdout",
          "text": [
            "Cada linha de código me deixa mais perto dos meus objetivos 🚀\n"
          ]
        }
      ]
    },
    {
      "cell_type": "code",
      "source": [
        "print(\"10+5=\",10+5)"
      ],
      "metadata": {
        "colab": {
          "base_uri": "https://localhost:8080/"
        },
        "id": "s-_EP69pVJLA",
        "outputId": "404ad08c-6201-4fc6-f453-32cde5ebdbb5"
      },
      "execution_count": null,
      "outputs": [
        {
          "output_type": "stream",
          "name": "stdout",
          "text": [
            "10+5= 15\n"
          ]
        }
      ]
    },
    {
      "cell_type": "code",
      "source": [
        "print(\"Olá, meu nome é Gabriel e estou aprendendo Python\")"
      ],
      "metadata": {
        "colab": {
          "base_uri": "https://localhost:8080/"
        },
        "id": "3tsQhYeASwgm",
        "outputId": "5ee77e45-f643-468f-e6fd-4eec1216008b"
      },
      "execution_count": null,
      "outputs": [
        {
          "output_type": "stream",
          "name": "stdout",
          "text": [
            "Olá, meu nome é Gabriel e estou aprendendo Python\n"
          ]
        }
      ]
    }
  ]
}